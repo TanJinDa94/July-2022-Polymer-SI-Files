{
 "cells": [
  {
   "cell_type": "markdown",
   "metadata": {
    "toc": true
   },
   "source": [
    "<h1>Table of Contents<span class=\"tocSkip\"></span></h1>\n",
    "<div class=\"toc\"><ul class=\"toc-item\"><li><span><a href=\"#Import-Relevant-Libraries\" data-toc-modified-id=\"Import-Relevant-Libraries-1\">Import Relevant Libraries</a></span></li><li><span><a href=\"#Read-Data-File\" data-toc-modified-id=\"Read-Data-File-2\">Read Data File</a></span></li><li><span><a href=\"#Train-Test-Split-and-Feature-Scaling\" data-toc-modified-id=\"Train-Test-Split-and-Feature-Scaling-3\">Train Test Split and Feature Scaling</a></span></li><li><span><a href=\"#Linear-Regression\" data-toc-modified-id=\"Linear-Regression-4\">Linear Regression</a></span></li><li><span><a href=\"#Lasso-Regression\" data-toc-modified-id=\"Lasso-Regression-5\">Lasso Regression</a></span></li><li><span><a href=\"#Ridge-Regression\" data-toc-modified-id=\"Ridge-Regression-6\">Ridge Regression</a></span></li><li><span><a href=\"#Elastic-Net-Regression\" data-toc-modified-id=\"Elastic-Net-Regression-7\">Elastic Net Regression</a></span></li><li><span><a href=\"#K-Nearest-Neighbors-Regression\" data-toc-modified-id=\"K-Nearest-Neighbors-Regression-8\">K Nearest Neighbors Regression</a></span></li><li><span><a href=\"#Decision-Tree-Regression\" data-toc-modified-id=\"Decision-Tree-Regression-9\">Decision Tree Regression</a></span></li><li><span><a href=\"#Random-Forest-Regression\" data-toc-modified-id=\"Random-Forest-Regression-10\">Random Forest Regression</a></span></li><li><span><a href=\"#Deep-Neural-Networks\" data-toc-modified-id=\"Deep-Neural-Networks-11\">Deep Neural Networks</a></span></li><li><span><a href=\"#ML-Algorithm-Performance-Visualization\" data-toc-modified-id=\"ML-Algorithm-Performance-Visualization-12\">ML Algorithm Performance Visualization</a></span></li></ul></div>"
   ]
  },
  {
   "cell_type": "markdown",
   "metadata": {},
   "source": [
    "## Import Relevant Libraries"
   ]
  },
  {
   "cell_type": "code",
   "execution_count": 1,
   "metadata": {
    "ExecuteTime": {
     "end_time": "2022-07-02T11:58:11.484613Z",
     "start_time": "2022-07-02T11:58:09.354149Z"
    }
   },
   "outputs": [],
   "source": [
    "import numpy as np\n",
    "import pandas as pd\n",
    "import matplotlib.pyplot as plt\n",
    "from joblib import load, dump\n",
    "from sklearn.metrics import mean_squared_error, r2_score\n",
    "import scipy"
   ]
  },
  {
   "cell_type": "code",
   "execution_count": 2,
   "metadata": {
    "ExecuteTime": {
     "end_time": "2022-07-02T11:58:13.911038Z",
     "start_time": "2022-07-02T11:58:11.490650Z"
    },
    "scrolled": true
   },
   "outputs": [
    {
     "name": "stdout",
     "output_type": "stream",
     "text": [
      "Tensorflow Version: 2.3.0\n",
      "Keras Version: 2.4.0\n",
      "\n",
      "Python 3.8.5 (default, Sep  3 2020, 21:29:08) [MSC v.1916 64 bit (AMD64)]\n",
      "Pandas 1.4.1\n",
      "Scikit-Learn 0.23.2\n"
     ]
    }
   ],
   "source": [
    "import sys\n",
    "\n",
    "import tensorflow.keras\n",
    "import pandas as pd\n",
    "import sklearn as sk\n",
    "import tensorflow as tf\n",
    "\n",
    "print(f'Tensorflow Version: {tf.__version__}')\n",
    "print(f'Keras Version: {tensorflow.keras.__version__}')\n",
    "print()\n",
    "print(f'Python {sys.version}')\n",
    "print(f'Pandas {pd.__version__}')\n",
    "print(f'Scikit-Learn {sk.__version__}')\n",
    "#print('GPU is', 'available' if tf.test.is_gpu_available() else 'NOT AVAILABLE')"
   ]
  },
  {
   "cell_type": "markdown",
   "metadata": {},
   "source": [
    "## Read Data File"
   ]
  },
  {
   "cell_type": "code",
   "execution_count": 3,
   "metadata": {
    "ExecuteTime": {
     "end_time": "2022-07-02T11:58:14.394892Z",
     "start_time": "2022-07-02T11:58:13.913007Z"
    }
   },
   "outputs": [
    {
     "data": {
      "text/html": [
       "<div>\n",
       "<style scoped>\n",
       "    .dataframe tbody tr th:only-of-type {\n",
       "        vertical-align: middle;\n",
       "    }\n",
       "\n",
       "    .dataframe tbody tr th {\n",
       "        vertical-align: top;\n",
       "    }\n",
       "\n",
       "    .dataframe thead th {\n",
       "        text-align: right;\n",
       "    }\n",
       "</style>\n",
       "<table border=\"1\" class=\"dataframe\">\n",
       "  <thead>\n",
       "    <tr style=\"text-align: right;\">\n",
       "      <th></th>\n",
       "      <th>Condition</th>\n",
       "      <th>Styrene Weight Fraction</th>\n",
       "      <th>Styrene to AIBN Mole Ratio</th>\n",
       "      <th>Residence Time</th>\n",
       "      <th>Conversion</th>\n",
       "      <th>Mn</th>\n",
       "      <th>Mw</th>\n",
       "      <th>PDI</th>\n",
       "      <th>Mz</th>\n",
       "      <th>Mp</th>\n",
       "      <th>Asymmetry Factor</th>\n",
       "    </tr>\n",
       "  </thead>\n",
       "  <tbody>\n",
       "    <tr>\n",
       "      <th>0</th>\n",
       "      <td>1</td>\n",
       "      <td>0.3</td>\n",
       "      <td>150</td>\n",
       "      <td>30</td>\n",
       "      <td>10.394182</td>\n",
       "      <td>6606</td>\n",
       "      <td>14047</td>\n",
       "      <td>2.126400</td>\n",
       "      <td>22591</td>\n",
       "      <td>17580</td>\n",
       "      <td>2.023757</td>\n",
       "    </tr>\n",
       "    <tr>\n",
       "      <th>1</th>\n",
       "      <td>1</td>\n",
       "      <td>0.3</td>\n",
       "      <td>150</td>\n",
       "      <td>60</td>\n",
       "      <td>18.468858</td>\n",
       "      <td>6417</td>\n",
       "      <td>13347</td>\n",
       "      <td>2.079944</td>\n",
       "      <td>21435</td>\n",
       "      <td>16248</td>\n",
       "      <td>2.104167</td>\n",
       "    </tr>\n",
       "    <tr>\n",
       "      <th>2</th>\n",
       "      <td>1</td>\n",
       "      <td>0.3</td>\n",
       "      <td>150</td>\n",
       "      <td>90</td>\n",
       "      <td>29.887858</td>\n",
       "      <td>6833</td>\n",
       "      <td>14591</td>\n",
       "      <td>2.135372</td>\n",
       "      <td>23510</td>\n",
       "      <td>18506</td>\n",
       "      <td>2.130820</td>\n",
       "    </tr>\n",
       "    <tr>\n",
       "      <th>3</th>\n",
       "      <td>1</td>\n",
       "      <td>0.3</td>\n",
       "      <td>150</td>\n",
       "      <td>120</td>\n",
       "      <td>28.449042</td>\n",
       "      <td>7541</td>\n",
       "      <td>16415</td>\n",
       "      <td>2.176767</td>\n",
       "      <td>26246</td>\n",
       "      <td>20626</td>\n",
       "      <td>2.112060</td>\n",
       "    </tr>\n",
       "    <tr>\n",
       "      <th>4</th>\n",
       "      <td>2</td>\n",
       "      <td>0.3</td>\n",
       "      <td>100</td>\n",
       "      <td>30</td>\n",
       "      <td>11.350463</td>\n",
       "      <td>7089</td>\n",
       "      <td>15163</td>\n",
       "      <td>2.138948</td>\n",
       "      <td>24503</td>\n",
       "      <td>18681</td>\n",
       "      <td>2.021594</td>\n",
       "    </tr>\n",
       "    <tr>\n",
       "      <th>...</th>\n",
       "      <td>...</td>\n",
       "      <td>...</td>\n",
       "      <td>...</td>\n",
       "      <td>...</td>\n",
       "      <td>...</td>\n",
       "      <td>...</td>\n",
       "      <td>...</td>\n",
       "      <td>...</td>\n",
       "      <td>...</td>\n",
       "      <td>...</td>\n",
       "      <td>...</td>\n",
       "    </tr>\n",
       "    <tr>\n",
       "      <th>103</th>\n",
       "      <td>26</td>\n",
       "      <td>0.5</td>\n",
       "      <td>250</td>\n",
       "      <td>120</td>\n",
       "      <td>30.682166</td>\n",
       "      <td>12507</td>\n",
       "      <td>28342</td>\n",
       "      <td>2.266091</td>\n",
       "      <td>46050</td>\n",
       "      <td>29086</td>\n",
       "      <td>1.593822</td>\n",
       "    </tr>\n",
       "    <tr>\n",
       "      <th>104</th>\n",
       "      <td>27</td>\n",
       "      <td>0.5</td>\n",
       "      <td>200</td>\n",
       "      <td>30</td>\n",
       "      <td>16.965776</td>\n",
       "      <td>10133</td>\n",
       "      <td>21361</td>\n",
       "      <td>2.108063</td>\n",
       "      <td>33091</td>\n",
       "      <td>24630</td>\n",
       "      <td>1.936864</td>\n",
       "    </tr>\n",
       "    <tr>\n",
       "      <th>105</th>\n",
       "      <td>27</td>\n",
       "      <td>0.5</td>\n",
       "      <td>200</td>\n",
       "      <td>60</td>\n",
       "      <td>25.224678</td>\n",
       "      <td>10722</td>\n",
       "      <td>23046</td>\n",
       "      <td>2.149412</td>\n",
       "      <td>35826</td>\n",
       "      <td>26237</td>\n",
       "      <td>1.863966</td>\n",
       "    </tr>\n",
       "    <tr>\n",
       "      <th>106</th>\n",
       "      <td>27</td>\n",
       "      <td>0.5</td>\n",
       "      <td>200</td>\n",
       "      <td>90</td>\n",
       "      <td>28.791491</td>\n",
       "      <td>11428</td>\n",
       "      <td>24929</td>\n",
       "      <td>2.181397</td>\n",
       "      <td>38793</td>\n",
       "      <td>27553</td>\n",
       "      <td>1.786164</td>\n",
       "    </tr>\n",
       "    <tr>\n",
       "      <th>107</th>\n",
       "      <td>27</td>\n",
       "      <td>0.5</td>\n",
       "      <td>200</td>\n",
       "      <td>120</td>\n",
       "      <td>35.261377</td>\n",
       "      <td>11392</td>\n",
       "      <td>25324</td>\n",
       "      <td>2.222963</td>\n",
       "      <td>40806</td>\n",
       "      <td>26886</td>\n",
       "      <td>1.691120</td>\n",
       "    </tr>\n",
       "  </tbody>\n",
       "</table>\n",
       "<p>108 rows × 11 columns</p>\n",
       "</div>"
      ],
      "text/plain": [
       "     Condition  Styrene Weight Fraction  Styrene to AIBN Mole Ratio  \\\n",
       "0            1                      0.3                         150   \n",
       "1            1                      0.3                         150   \n",
       "2            1                      0.3                         150   \n",
       "3            1                      0.3                         150   \n",
       "4            2                      0.3                         100   \n",
       "..         ...                      ...                         ...   \n",
       "103         26                      0.5                         250   \n",
       "104         27                      0.5                         200   \n",
       "105         27                      0.5                         200   \n",
       "106         27                      0.5                         200   \n",
       "107         27                      0.5                         200   \n",
       "\n",
       "     Residence Time  Conversion     Mn     Mw       PDI     Mz     Mp  \\\n",
       "0                30   10.394182   6606  14047  2.126400  22591  17580   \n",
       "1                60   18.468858   6417  13347  2.079944  21435  16248   \n",
       "2                90   29.887858   6833  14591  2.135372  23510  18506   \n",
       "3               120   28.449042   7541  16415  2.176767  26246  20626   \n",
       "4                30   11.350463   7089  15163  2.138948  24503  18681   \n",
       "..              ...         ...    ...    ...       ...    ...    ...   \n",
       "103             120   30.682166  12507  28342  2.266091  46050  29086   \n",
       "104              30   16.965776  10133  21361  2.108063  33091  24630   \n",
       "105              60   25.224678  10722  23046  2.149412  35826  26237   \n",
       "106              90   28.791491  11428  24929  2.181397  38793  27553   \n",
       "107             120   35.261377  11392  25324  2.222963  40806  26886   \n",
       "\n",
       "     Asymmetry Factor  \n",
       "0            2.023757  \n",
       "1            2.104167  \n",
       "2            2.130820  \n",
       "3            2.112060  \n",
       "4            2.021594  \n",
       "..                ...  \n",
       "103          1.593822  \n",
       "104          1.936864  \n",
       "105          1.863966  \n",
       "106          1.786164  \n",
       "107          1.691120  \n",
       "\n",
       "[108 rows x 11 columns]"
      ]
     },
     "execution_count": 3,
     "metadata": {},
     "output_type": "execute_result"
    }
   ],
   "source": [
    "df = pd.read_excel('Conversion and Summary Metrics Data.xlsx')\n",
    "df.drop(columns=['Unnamed: 0'], inplace=True)\n",
    "df"
   ]
  },
  {
   "cell_type": "code",
   "execution_count": 4,
   "metadata": {
    "ExecuteTime": {
     "end_time": "2022-07-02T11:58:14.410896Z",
     "start_time": "2022-07-02T11:58:14.396848Z"
    }
   },
   "outputs": [],
   "source": [
    "# Remove Condition 15\n",
    "df_ = df[df['Condition'] != 15]\n",
    "df_ = df_.drop(['Condition'], axis=1)\n",
    "X = df_.iloc[:,:3]\n",
    "y = df_.iloc[:,3:]"
   ]
  },
  {
   "cell_type": "code",
   "execution_count": 5,
   "metadata": {
    "ExecuteTime": {
     "end_time": "2022-07-02T11:58:14.426806Z",
     "start_time": "2022-07-02T11:58:14.415883Z"
    },
    "scrolled": true
   },
   "outputs": [
    {
     "data": {
      "text/html": [
       "<div>\n",
       "<style scoped>\n",
       "    .dataframe tbody tr th:only-of-type {\n",
       "        vertical-align: middle;\n",
       "    }\n",
       "\n",
       "    .dataframe tbody tr th {\n",
       "        vertical-align: top;\n",
       "    }\n",
       "\n",
       "    .dataframe thead th {\n",
       "        text-align: right;\n",
       "    }\n",
       "</style>\n",
       "<table border=\"1\" class=\"dataframe\">\n",
       "  <thead>\n",
       "    <tr style=\"text-align: right;\">\n",
       "      <th></th>\n",
       "      <th>Styrene Weight Fraction</th>\n",
       "      <th>Styrene to AIBN Mole Ratio</th>\n",
       "      <th>Residence Time</th>\n",
       "    </tr>\n",
       "  </thead>\n",
       "  <tbody>\n",
       "    <tr>\n",
       "      <th>0</th>\n",
       "      <td>0.3</td>\n",
       "      <td>150</td>\n",
       "      <td>30</td>\n",
       "    </tr>\n",
       "    <tr>\n",
       "      <th>1</th>\n",
       "      <td>0.3</td>\n",
       "      <td>150</td>\n",
       "      <td>60</td>\n",
       "    </tr>\n",
       "    <tr>\n",
       "      <th>2</th>\n",
       "      <td>0.3</td>\n",
       "      <td>150</td>\n",
       "      <td>90</td>\n",
       "    </tr>\n",
       "    <tr>\n",
       "      <th>3</th>\n",
       "      <td>0.3</td>\n",
       "      <td>150</td>\n",
       "      <td>120</td>\n",
       "    </tr>\n",
       "    <tr>\n",
       "      <th>4</th>\n",
       "      <td>0.3</td>\n",
       "      <td>100</td>\n",
       "      <td>30</td>\n",
       "    </tr>\n",
       "    <tr>\n",
       "      <th>...</th>\n",
       "      <td>...</td>\n",
       "      <td>...</td>\n",
       "      <td>...</td>\n",
       "    </tr>\n",
       "    <tr>\n",
       "      <th>103</th>\n",
       "      <td>0.5</td>\n",
       "      <td>250</td>\n",
       "      <td>120</td>\n",
       "    </tr>\n",
       "    <tr>\n",
       "      <th>104</th>\n",
       "      <td>0.5</td>\n",
       "      <td>200</td>\n",
       "      <td>30</td>\n",
       "    </tr>\n",
       "    <tr>\n",
       "      <th>105</th>\n",
       "      <td>0.5</td>\n",
       "      <td>200</td>\n",
       "      <td>60</td>\n",
       "    </tr>\n",
       "    <tr>\n",
       "      <th>106</th>\n",
       "      <td>0.5</td>\n",
       "      <td>200</td>\n",
       "      <td>90</td>\n",
       "    </tr>\n",
       "    <tr>\n",
       "      <th>107</th>\n",
       "      <td>0.5</td>\n",
       "      <td>200</td>\n",
       "      <td>120</td>\n",
       "    </tr>\n",
       "  </tbody>\n",
       "</table>\n",
       "<p>104 rows × 3 columns</p>\n",
       "</div>"
      ],
      "text/plain": [
       "     Styrene Weight Fraction  Styrene to AIBN Mole Ratio  Residence Time\n",
       "0                        0.3                         150              30\n",
       "1                        0.3                         150              60\n",
       "2                        0.3                         150              90\n",
       "3                        0.3                         150             120\n",
       "4                        0.3                         100              30\n",
       "..                       ...                         ...             ...\n",
       "103                      0.5                         250             120\n",
       "104                      0.5                         200              30\n",
       "105                      0.5                         200              60\n",
       "106                      0.5                         200              90\n",
       "107                      0.5                         200             120\n",
       "\n",
       "[104 rows x 3 columns]"
      ]
     },
     "execution_count": 5,
     "metadata": {},
     "output_type": "execute_result"
    }
   ],
   "source": [
    "# Inspect X\n",
    "X"
   ]
  },
  {
   "cell_type": "code",
   "execution_count": 6,
   "metadata": {
    "ExecuteTime": {
     "end_time": "2022-07-02T11:58:14.442792Z",
     "start_time": "2022-07-02T11:58:14.428802Z"
    },
    "scrolled": true
   },
   "outputs": [
    {
     "data": {
      "text/html": [
       "<div>\n",
       "<style scoped>\n",
       "    .dataframe tbody tr th:only-of-type {\n",
       "        vertical-align: middle;\n",
       "    }\n",
       "\n",
       "    .dataframe tbody tr th {\n",
       "        vertical-align: top;\n",
       "    }\n",
       "\n",
       "    .dataframe thead th {\n",
       "        text-align: right;\n",
       "    }\n",
       "</style>\n",
       "<table border=\"1\" class=\"dataframe\">\n",
       "  <thead>\n",
       "    <tr style=\"text-align: right;\">\n",
       "      <th></th>\n",
       "      <th>Conversion</th>\n",
       "      <th>Mn</th>\n",
       "      <th>Mw</th>\n",
       "      <th>PDI</th>\n",
       "      <th>Mz</th>\n",
       "      <th>Mp</th>\n",
       "      <th>Asymmetry Factor</th>\n",
       "    </tr>\n",
       "  </thead>\n",
       "  <tbody>\n",
       "    <tr>\n",
       "      <th>0</th>\n",
       "      <td>10.394182</td>\n",
       "      <td>6606</td>\n",
       "      <td>14047</td>\n",
       "      <td>2.126400</td>\n",
       "      <td>22591</td>\n",
       "      <td>17580</td>\n",
       "      <td>2.023757</td>\n",
       "    </tr>\n",
       "    <tr>\n",
       "      <th>1</th>\n",
       "      <td>18.468858</td>\n",
       "      <td>6417</td>\n",
       "      <td>13347</td>\n",
       "      <td>2.079944</td>\n",
       "      <td>21435</td>\n",
       "      <td>16248</td>\n",
       "      <td>2.104167</td>\n",
       "    </tr>\n",
       "    <tr>\n",
       "      <th>2</th>\n",
       "      <td>29.887858</td>\n",
       "      <td>6833</td>\n",
       "      <td>14591</td>\n",
       "      <td>2.135372</td>\n",
       "      <td>23510</td>\n",
       "      <td>18506</td>\n",
       "      <td>2.130820</td>\n",
       "    </tr>\n",
       "    <tr>\n",
       "      <th>3</th>\n",
       "      <td>28.449042</td>\n",
       "      <td>7541</td>\n",
       "      <td>16415</td>\n",
       "      <td>2.176767</td>\n",
       "      <td>26246</td>\n",
       "      <td>20626</td>\n",
       "      <td>2.112060</td>\n",
       "    </tr>\n",
       "    <tr>\n",
       "      <th>4</th>\n",
       "      <td>11.350463</td>\n",
       "      <td>7089</td>\n",
       "      <td>15163</td>\n",
       "      <td>2.138948</td>\n",
       "      <td>24503</td>\n",
       "      <td>18681</td>\n",
       "      <td>2.021594</td>\n",
       "    </tr>\n",
       "    <tr>\n",
       "      <th>...</th>\n",
       "      <td>...</td>\n",
       "      <td>...</td>\n",
       "      <td>...</td>\n",
       "      <td>...</td>\n",
       "      <td>...</td>\n",
       "      <td>...</td>\n",
       "      <td>...</td>\n",
       "    </tr>\n",
       "    <tr>\n",
       "      <th>103</th>\n",
       "      <td>30.682166</td>\n",
       "      <td>12507</td>\n",
       "      <td>28342</td>\n",
       "      <td>2.266091</td>\n",
       "      <td>46050</td>\n",
       "      <td>29086</td>\n",
       "      <td>1.593822</td>\n",
       "    </tr>\n",
       "    <tr>\n",
       "      <th>104</th>\n",
       "      <td>16.965776</td>\n",
       "      <td>10133</td>\n",
       "      <td>21361</td>\n",
       "      <td>2.108063</td>\n",
       "      <td>33091</td>\n",
       "      <td>24630</td>\n",
       "      <td>1.936864</td>\n",
       "    </tr>\n",
       "    <tr>\n",
       "      <th>105</th>\n",
       "      <td>25.224678</td>\n",
       "      <td>10722</td>\n",
       "      <td>23046</td>\n",
       "      <td>2.149412</td>\n",
       "      <td>35826</td>\n",
       "      <td>26237</td>\n",
       "      <td>1.863966</td>\n",
       "    </tr>\n",
       "    <tr>\n",
       "      <th>106</th>\n",
       "      <td>28.791491</td>\n",
       "      <td>11428</td>\n",
       "      <td>24929</td>\n",
       "      <td>2.181397</td>\n",
       "      <td>38793</td>\n",
       "      <td>27553</td>\n",
       "      <td>1.786164</td>\n",
       "    </tr>\n",
       "    <tr>\n",
       "      <th>107</th>\n",
       "      <td>35.261377</td>\n",
       "      <td>11392</td>\n",
       "      <td>25324</td>\n",
       "      <td>2.222963</td>\n",
       "      <td>40806</td>\n",
       "      <td>26886</td>\n",
       "      <td>1.691120</td>\n",
       "    </tr>\n",
       "  </tbody>\n",
       "</table>\n",
       "<p>104 rows × 7 columns</p>\n",
       "</div>"
      ],
      "text/plain": [
       "     Conversion     Mn     Mw       PDI     Mz     Mp  Asymmetry Factor\n",
       "0     10.394182   6606  14047  2.126400  22591  17580          2.023757\n",
       "1     18.468858   6417  13347  2.079944  21435  16248          2.104167\n",
       "2     29.887858   6833  14591  2.135372  23510  18506          2.130820\n",
       "3     28.449042   7541  16415  2.176767  26246  20626          2.112060\n",
       "4     11.350463   7089  15163  2.138948  24503  18681          2.021594\n",
       "..          ...    ...    ...       ...    ...    ...               ...\n",
       "103   30.682166  12507  28342  2.266091  46050  29086          1.593822\n",
       "104   16.965776  10133  21361  2.108063  33091  24630          1.936864\n",
       "105   25.224678  10722  23046  2.149412  35826  26237          1.863966\n",
       "106   28.791491  11428  24929  2.181397  38793  27553          1.786164\n",
       "107   35.261377  11392  25324  2.222963  40806  26886          1.691120\n",
       "\n",
       "[104 rows x 7 columns]"
      ]
     },
     "execution_count": 6,
     "metadata": {},
     "output_type": "execute_result"
    }
   ],
   "source": [
    "# Inspect y\n",
    "y"
   ]
  },
  {
   "cell_type": "markdown",
   "metadata": {},
   "source": [
    "## Train Test Split and Feature Scaling"
   ]
  },
  {
   "cell_type": "code",
   "execution_count": 7,
   "metadata": {
    "ExecuteTime": {
     "end_time": "2022-07-02T11:58:14.474708Z",
     "start_time": "2022-07-02T11:58:14.444758Z"
    }
   },
   "outputs": [],
   "source": [
    "# Train - Test Split\n",
    "from sklearn.model_selection import train_test_split\n",
    "\n",
    "X_train, X_test, y_train, y_test = train_test_split(X, y, test_size=0.2, random_state=42)"
   ]
  },
  {
   "cell_type": "code",
   "execution_count": 8,
   "metadata": {
    "ExecuteTime": {
     "end_time": "2022-07-02T11:58:14.490672Z",
     "start_time": "2022-07-02T11:58:14.476705Z"
    }
   },
   "outputs": [],
   "source": [
    "# Feature Scaling\n",
    "from sklearn.preprocessing import MinMaxScaler\n",
    "\n",
    "scaler_X = MinMaxScaler()\n",
    "scaler_y = MinMaxScaler()\n",
    "\n",
    "X_train = pd.DataFrame(scaler_X.fit_transform(X_train), columns=X.columns)\n",
    "X_test = pd.DataFrame(scaler_X.transform(X_test), columns=X.columns)\n",
    "\n",
    "y_train = pd.DataFrame(scaler_y.fit_transform(y_train), columns=y.columns)\n",
    "y_test = pd.DataFrame(scaler_y.transform(y_test), columns=y.columns)"
   ]
  },
  {
   "cell_type": "code",
   "execution_count": 9,
   "metadata": {
    "ExecuteTime": {
     "end_time": "2022-07-02T11:58:14.506629Z",
     "start_time": "2022-07-02T11:58:14.492632Z"
    }
   },
   "outputs": [],
   "source": [
    "# Create empty dictionaries to store regressor scores.\n",
    "\n",
    "train_rmse = {}\n",
    "train_r2 = {}\n",
    "\n",
    "test_rmse = {}\n",
    "test_r2 = {}"
   ]
  },
  {
   "cell_type": "markdown",
   "metadata": {},
   "source": [
    "## Linear Regression"
   ]
  },
  {
   "cell_type": "code",
   "execution_count": 10,
   "metadata": {
    "ExecuteTime": {
     "end_time": "2022-07-02T11:58:14.601869Z",
     "start_time": "2022-07-02T11:58:14.508590Z"
    }
   },
   "outputs": [
    {
     "name": "stdout",
     "output_type": "stream",
     "text": [
      "Training Score (RMSE) = 0.098\n",
      "Training Score (R Squared) = 0.796\n",
      "\n",
      "Test Score (RMSE) = 0.101\n",
      "Test Score (R Squared) = 0.741\n"
     ]
    }
   ],
   "source": [
    "# Linear Regression; No Hyperparameters, CV not executed.\n",
    "\n",
    "# Import Regressor\n",
    "from sklearn.linear_model import LinearRegression\n",
    "\n",
    "# Instantiation and Fitting\n",
    "regressor = LinearRegression()\n",
    "regressor.fit(X_train, y_train)\n",
    "\n",
    "# Predict on Training Set\n",
    "y_pred_train = regressor.predict(X_train)\n",
    "y_pred_train = pd.DataFrame(y_pred_train)\n",
    "y_pred_train.index = y_train.index\n",
    "y_pred_train.columns = y_train.columns\n",
    "\n",
    "# Predict on Test Set\n",
    "y_pred_test = regressor.predict(X_test)\n",
    "y_pred_test = pd.DataFrame(y_pred_test)\n",
    "y_pred_test.index = y_test.index\n",
    "y_pred_test.columns = y_test.columns\n",
    "\n",
    "# Print Training and Test Scores\n",
    "print(f'Training Score (RMSE) = {np.round(mean_squared_error(y_train, y_pred_train, squared=False),3)}')\n",
    "print(f'Training Score (R Squared) = {np.round(r2_score(y_train, y_pred_train),3)}')\n",
    "\n",
    "print(f'\\nTest Score (RMSE) = {np.round(mean_squared_error(y_test, y_pred_test, squared=False),3)}')\n",
    "print(f'Test Score (R Squared) = {np.round(r2_score(y_test, y_pred_test),3)}')"
   ]
  },
  {
   "cell_type": "code",
   "execution_count": 11,
   "metadata": {
    "ExecuteTime": {
     "end_time": "2022-07-02T11:58:14.617827Z",
     "start_time": "2022-07-02T11:58:14.602868Z"
    }
   },
   "outputs": [],
   "source": [
    "# Store Linear Regression Scores\n",
    "\n",
    "train_rmse['Linear Regression'] = mean_squared_error(y_train,y_pred_train, squared=False)\n",
    "train_r2['Linear Regression'] = r2_score(y_train,y_pred_train)\n",
    "\n",
    "test_rmse['Linear Regression'] = mean_squared_error(y_test,y_pred_test, squared=False)\n",
    "test_r2['Linear Regression'] = r2_score(y_test,y_pred_test)"
   ]
  },
  {
   "cell_type": "code",
   "execution_count": 12,
   "metadata": {
    "ExecuteTime": {
     "end_time": "2022-07-02T11:58:14.633785Z",
     "start_time": "2022-07-02T11:58:14.618825Z"
    }
   },
   "outputs": [
    {
     "data": {
      "text/plain": [
       "['6metrics_linear_reg.joblib']"
      ]
     },
     "execution_count": 12,
     "metadata": {},
     "output_type": "execute_result"
    }
   ],
   "source": [
    "dump(regressor, '6metrics_linear_reg.joblib') "
   ]
  },
  {
   "cell_type": "markdown",
   "metadata": {},
   "source": [
    "## Lasso Regression"
   ]
  },
  {
   "cell_type": "code",
   "execution_count": 13,
   "metadata": {
    "ExecuteTime": {
     "end_time": "2022-07-02T11:58:18.264921Z",
     "start_time": "2022-07-02T11:58:14.635780Z"
    }
   },
   "outputs": [
    {
     "name": "stdout",
     "output_type": "stream",
     "text": [
      "Best Estimator : Lasso(alpha=0.05, random_state=42)\n",
      "Best Hyperparameter Combination: {'alpha': 0.05}\n",
      "Best Mean CV Test Score: 0.04711772126832252\n",
      "\n",
      "Training Score (RMSE) = 0.211\n",
      "Training Score (R Squared) = 0.269\n",
      "\n",
      "Test Score (RMSE) = 0.195\n",
      "Test Score (R Squared) = 0.25\n"
     ]
    }
   ],
   "source": [
    "# Lasso Regression\n",
    "\n",
    "# Import Regressor and GridSearchCV\n",
    "from sklearn.linear_model import Lasso\n",
    "from sklearn.model_selection import GridSearchCV\n",
    "\n",
    "# Instantiate Regressor\n",
    "lasso = Lasso(random_state = 42)\n",
    "\n",
    "# Define Parameter Grid for subsequent Grid Search\n",
    "param_grid = {'alpha' : np.arange(0.05, 1.05, 0.05)}\n",
    "\n",
    "# Execute Grid Search\n",
    "regressor = GridSearchCV(estimator = lasso,\n",
    "                         param_grid = param_grid,\n",
    "                         scoring = 'neg_mean_squared_error',\n",
    "                         n_jobs = -1,\n",
    "                         cv = 5,\n",
    "                         refit = True, # Hyperparameters automatically refit onto regressor.\n",
    "                         return_train_score = True)\n",
    "\n",
    "# Fit Regressor\n",
    "regressor.fit(X_train, y_train)\n",
    "\n",
    "# Predict on Training Set\n",
    "y_pred_train = regressor.predict(X_train)\n",
    "y_pred_train = pd.DataFrame(y_pred_train)\n",
    "y_pred_train.index = y_train.index\n",
    "y_pred_train.columns = y_train.columns\n",
    "\n",
    "# Predict on Test Set\n",
    "y_pred_test = regressor.predict(X_test)\n",
    "y_pred_test = pd.DataFrame(y_pred_test)\n",
    "y_pred_test.index = y_test.index\n",
    "y_pred_test.columns = y_test.columns\n",
    "\n",
    "# Print Best Estimator, Hyperparameter Combination, Training and Test Scores\n",
    "print(f'Best Estimator : {regressor.best_estimator_}')\n",
    "print(f'Best Hyperparameter Combination: {regressor.best_params_}')\n",
    "print(f'Best Mean CV Test Score: {-regressor.best_score_}')\n",
    "\n",
    "print(f'\\nTraining Score (RMSE) = {np.round(mean_squared_error(y_train, y_pred_train, squared=False),3)}')\n",
    "print(f'Training Score (R Squared) = {np.round(r2_score(y_train, y_pred_train),3)}')\n",
    "\n",
    "print(f'\\nTest Score (RMSE) = {np.round(mean_squared_error(y_test, y_pred_test, squared=False),3)}')\n",
    "print(f'Test Score (R Squared) = {np.round(r2_score(y_test, y_pred_test),3)}')"
   ]
  },
  {
   "cell_type": "code",
   "execution_count": 14,
   "metadata": {
    "ExecuteTime": {
     "end_time": "2022-07-02T11:58:18.280879Z",
     "start_time": "2022-07-02T11:58:18.265918Z"
    }
   },
   "outputs": [],
   "source": [
    "# Store Lasso Regression Scores\n",
    "\n",
    "train_rmse['Lasso Regression'] = mean_squared_error(y_train,y_pred_train, squared=False)\n",
    "train_r2['Lasso Regression'] = r2_score(y_train,y_pred_train)\n",
    "\n",
    "test_rmse['Lasso Regression'] = mean_squared_error(y_test,y_pred_test, squared=False)\n",
    "test_r2['Lasso Regression'] = r2_score(y_test,y_pred_test)"
   ]
  },
  {
   "cell_type": "code",
   "execution_count": 15,
   "metadata": {
    "ExecuteTime": {
     "end_time": "2022-07-02T11:58:18.295838Z",
     "start_time": "2022-07-02T11:58:18.282873Z"
    }
   },
   "outputs": [
    {
     "data": {
      "text/plain": [
       "['6metrics_lasso_reg.joblib']"
      ]
     },
     "execution_count": 15,
     "metadata": {},
     "output_type": "execute_result"
    }
   ],
   "source": [
    "dump(regressor, '6metrics_lasso_reg.joblib') "
   ]
  },
  {
   "cell_type": "markdown",
   "metadata": {},
   "source": [
    "## Ridge Regression"
   ]
  },
  {
   "cell_type": "code",
   "execution_count": 16,
   "metadata": {
    "ExecuteTime": {
     "end_time": "2022-07-02T11:58:18.485334Z",
     "start_time": "2022-07-02T11:58:18.297833Z"
    }
   },
   "outputs": [
    {
     "name": "stdout",
     "output_type": "stream",
     "text": [
      "Best Estimator : Ridge(alpha=0.25, random_state=42)\n",
      "Best Hyperparameter Combination: {'alpha': 0.25}\n",
      "Best Mean CV Test Score: 0.014849089647536612\n",
      "\n",
      "Training Score (RMSE) = 0.098\n",
      "Training Score (R Squared) = 0.795\n",
      "\n",
      "Test Score (RMSE) = 0.101\n",
      "Test Score (R Squared) = 0.742\n"
     ]
    }
   ],
   "source": [
    "# Ridge Regression\n",
    "\n",
    "# Import Regressor\n",
    "from sklearn.linear_model import Ridge\n",
    "\n",
    "# Instantiate Regressor\n",
    "ridge = Ridge(random_state = 42)\n",
    "\n",
    "# Define Parameter Grid for subsequent Grid Search\n",
    "param_grid = {'alpha' : np.arange(0.05, 1.05, 0.05)}\n",
    "\n",
    "# Execute Grid Search\n",
    "regressor = GridSearchCV(estimator = ridge,\n",
    "                         param_grid = param_grid,\n",
    "                         scoring = 'neg_mean_squared_error',\n",
    "                         n_jobs = -1,\n",
    "                         cv = 5,\n",
    "                         refit = True,\n",
    "                         return_train_score = True)\n",
    "\n",
    "# Fit Regressor\n",
    "regressor.fit(X_train, y_train)\n",
    "\n",
    "# Predict on Training Set\n",
    "y_pred_train = regressor.predict(X_train)\n",
    "y_pred_train = pd.DataFrame(y_pred_train)\n",
    "y_pred_train.index = y_train.index\n",
    "y_pred_train.columns = y_train.columns\n",
    "\n",
    "# Predict on Test Set\n",
    "y_pred_test = regressor.predict(X_test)\n",
    "y_pred_test = pd.DataFrame(y_pred_test)\n",
    "y_pred_test.index = y_test.index\n",
    "y_pred_test.columns = y_test.columns\n",
    "\n",
    "# Print Best Estimator, Hyperparameter Combination, Training and Test Scores\n",
    "print(f'Best Estimator : {regressor.best_estimator_}')\n",
    "print(f'Best Hyperparameter Combination: {regressor.best_params_}')\n",
    "print(f'Best Mean CV Test Score: {-regressor.best_score_}')\n",
    "\n",
    "print(f'\\nTraining Score (RMSE) = {np.round(mean_squared_error(y_train, y_pred_train, squared=False),3)}')\n",
    "print(f'Training Score (R Squared) = {np.round(r2_score(y_train, y_pred_train),3)}')\n",
    "\n",
    "print(f'\\nTest Score (RMSE) = {np.round(mean_squared_error(y_test, y_pred_test, squared=False),3)}')\n",
    "print(f'Test Score (R Squared) = {np.round(r2_score(y_test, y_pred_test),3)}')"
   ]
  },
  {
   "cell_type": "code",
   "execution_count": 17,
   "metadata": {
    "ExecuteTime": {
     "end_time": "2022-07-02T11:58:18.501316Z",
     "start_time": "2022-07-02T11:58:18.486329Z"
    }
   },
   "outputs": [],
   "source": [
    "# Store Ridge Regression Scores\n",
    "\n",
    "train_rmse['Ridge Regression'] = mean_squared_error(y_train,y_pred_train, squared=False)\n",
    "train_r2['Ridge Regression'] = r2_score(y_train,y_pred_train)\n",
    "\n",
    "test_rmse['Ridge Regression'] = mean_squared_error(y_test,y_pred_test, squared=False)\n",
    "test_r2['Ridge Regression'] = r2_score(y_test,y_pred_test)"
   ]
  },
  {
   "cell_type": "code",
   "execution_count": 18,
   "metadata": {
    "ExecuteTime": {
     "end_time": "2022-07-02T11:58:18.517300Z",
     "start_time": "2022-07-02T11:58:18.503284Z"
    }
   },
   "outputs": [
    {
     "data": {
      "text/plain": [
       "['6metrics_ridge_reg.joblib']"
      ]
     },
     "execution_count": 18,
     "metadata": {},
     "output_type": "execute_result"
    }
   ],
   "source": [
    "dump(regressor, '6metrics_ridge_reg.joblib') "
   ]
  },
  {
   "cell_type": "markdown",
   "metadata": {},
   "source": [
    "## Elastic Net Regression"
   ]
  },
  {
   "cell_type": "code",
   "execution_count": 19,
   "metadata": {
    "ExecuteTime": {
     "end_time": "2022-07-02T11:58:21.194620Z",
     "start_time": "2022-07-02T11:58:18.522237Z"
    }
   },
   "outputs": [
    {
     "name": "stdout",
     "output_type": "stream",
     "text": [
      "Best Estimator : ElasticNet(alpha=0.05, l1_ratio=0.05, random_state=42)\n",
      "Best Hyperparameter Combination: {'alpha': 0.05, 'l1_ratio': 0.05}\n",
      "Best Mean CV Test Score: 0.01913228053130394\n",
      "\n",
      "Training Score (RMSE) = 0.123\n",
      "Training Score (R Squared) = 0.718\n",
      "\n",
      "Test Score (RMSE) = 0.118\n",
      "Test Score (R Squared) = 0.686\n"
     ]
    }
   ],
   "source": [
    "# Elastic Net Regression\n",
    "\n",
    "# Import Regressor\n",
    "from sklearn.linear_model import ElasticNet\n",
    "\n",
    "# Instantiate Regressor\n",
    "enet = ElasticNet(random_state = 42)\n",
    "\n",
    "# Define Parameter Grid for subsequent Grid Search\n",
    "param_grid = {'alpha' : np.arange(0.05, 1.05, 0.05),\n",
    "             'l1_ratio' : np.arange(0.05, 1.05, 0.05)}\n",
    "\n",
    "# Execute Grid Search\n",
    "regressor = GridSearchCV(estimator = enet,\n",
    "                         param_grid = param_grid,\n",
    "                         scoring = 'neg_mean_squared_error',\n",
    "                         cv = 5,\n",
    "                         n_jobs = -1,\n",
    "                         refit = True,\n",
    "                         return_train_score = True)\n",
    "\n",
    "# Fit Regressor\n",
    "regressor.fit(X_train, y_train)\n",
    "\n",
    "# Predict on Training Set\n",
    "y_pred_train = regressor.predict(X_train)\n",
    "y_pred_train = pd.DataFrame(y_pred_train)\n",
    "y_pred_train.index = y_train.index\n",
    "y_pred_train.columns = y_train.columns\n",
    "\n",
    "# Predict on Test Set\n",
    "y_pred_test = regressor.predict(X_test)\n",
    "y_pred_test = pd.DataFrame(y_pred_test)\n",
    "y_pred_test.index = y_test.index\n",
    "y_pred_test.columns = y_test.columns\n",
    "\n",
    "# Print Best Estimator, Hyperparameter Combination, Training and Test Scores\n",
    "print(f'Best Estimator : {regressor.best_estimator_}')\n",
    "print(f'Best Hyperparameter Combination: {regressor.best_params_}')\n",
    "print(f'Best Mean CV Test Score: {-regressor.best_score_}')\n",
    "\n",
    "print(f'\\nTraining Score (RMSE) = {np.round(mean_squared_error(y_train, y_pred_train, squared=False),3)}')\n",
    "print(f'Training Score (R Squared) = {np.round(r2_score(y_train, y_pred_train),3)}')\n",
    "\n",
    "print(f'\\nTest Score (RMSE) = {np.round(mean_squared_error(y_test, y_pred_test, squared=False),3)}')\n",
    "print(f'Test Score (R Squared) = {np.round(r2_score(y_test, y_pred_test),3)}')"
   ]
  },
  {
   "cell_type": "code",
   "execution_count": 20,
   "metadata": {
    "ExecuteTime": {
     "end_time": "2022-07-02T11:58:21.210581Z",
     "start_time": "2022-07-02T11:58:21.195619Z"
    }
   },
   "outputs": [],
   "source": [
    "# Store Elastic Net Regression Scores\n",
    "\n",
    "train_rmse['Elastic Net Regression'] = mean_squared_error(y_train,y_pred_train, squared=False)\n",
    "train_r2['Elastic Net Regression'] = r2_score(y_train,y_pred_train)\n",
    "\n",
    "test_rmse['Elastic Net Regression'] = mean_squared_error(y_test,y_pred_test, squared=False)\n",
    "test_r2['Elastic Net Regression'] = r2_score(y_test,y_pred_test)"
   ]
  },
  {
   "cell_type": "code",
   "execution_count": 21,
   "metadata": {
    "ExecuteTime": {
     "end_time": "2022-07-02T11:58:21.241861Z",
     "start_time": "2022-07-02T11:58:21.211575Z"
    }
   },
   "outputs": [
    {
     "data": {
      "text/plain": [
       "['6metrics_enet_reg.joblib']"
      ]
     },
     "execution_count": 21,
     "metadata": {},
     "output_type": "execute_result"
    }
   ],
   "source": [
    "dump(regressor, '6metrics_enet_reg.joblib') "
   ]
  },
  {
   "cell_type": "markdown",
   "metadata": {},
   "source": [
    "## K Nearest Neighbors Regression"
   ]
  },
  {
   "cell_type": "code",
   "execution_count": 22,
   "metadata": {
    "ExecuteTime": {
     "end_time": "2022-07-02T11:59:01.003026Z",
     "start_time": "2022-07-02T11:58:21.243861Z"
    }
   },
   "outputs": [
    {
     "name": "stdout",
     "output_type": "stream",
     "text": [
      "Best Estimator : KNeighborsRegressor(algorithm='ball_tree', n_neighbors=3, p=1,\n",
      "                    weights='distance')\n",
      "Best Hyperparameter Combination: {'algorithm': 'ball_tree', 'leaf_size': 30, 'n_neighbors': 3, 'p': 1, 'weights': 'distance'}\n",
      "Best Mean CV Test Score: 0.00949944432438418\n",
      "\n",
      "Training Score (RMSE) = 0.0\n",
      "Training Score (R Squared) = 1.0\n",
      "\n",
      "Test Score (RMSE) = 0.082\n",
      "Test Score (R Squared) = 0.853\n"
     ]
    }
   ],
   "source": [
    "# K Nearest Neighbors Regression\n",
    "\n",
    "# Import Regressor\n",
    "from sklearn.neighbors import KNeighborsRegressor\n",
    "\n",
    "# Instantiate Regressor\n",
    "knn_reg = KNeighborsRegressor()\n",
    "\n",
    "# Define Parameter Grid for subsequent Grid Search\n",
    "param_grid = {'n_neighbors' : np.arange(1, 11, 1),\n",
    "             'weights' : ['distance', 'uniform'],\n",
    "             'algorithm' : ['auto', 'ball_tree', 'kd_tree', 'brute'],\n",
    "             'leaf_size' : np.arange(30, 110, 10),\n",
    "             'p' : np.arange(1, 11, 1)}\n",
    "\n",
    "# Execute Grid Search\n",
    "regressor = GridSearchCV(estimator = knn_reg,\n",
    "                        param_grid = param_grid,\n",
    "                        scoring = 'neg_mean_squared_error',\n",
    "                        cv = 5,\n",
    "                        n_jobs = -1,\n",
    "                        refit = True,\n",
    "                        return_train_score = True)\n",
    "\n",
    "# Fit Regressor\n",
    "regressor.fit(X_train, y_train)\n",
    "\n",
    "# Predict on Training Set\n",
    "y_pred_train = regressor.predict(X_train)\n",
    "y_pred_train = pd.DataFrame(y_pred_train)\n",
    "y_pred_train.index = y_train.index\n",
    "y_pred_train.columns = y_train.columns\n",
    "\n",
    "# Predict on Test Set\n",
    "y_pred_test = regressor.predict(X_test)\n",
    "y_pred_test = pd.DataFrame(y_pred_test)\n",
    "y_pred_test.index = y_test.index\n",
    "y_pred_test.columns = y_test.columns\n",
    "\n",
    "# Print Best Estimator, Hyperparameter Combination, Training and Test Scores\n",
    "print(f'Best Estimator : {regressor.best_estimator_}')\n",
    "print(f'Best Hyperparameter Combination: {regressor.best_params_}')\n",
    "print(f'Best Mean CV Test Score: {-regressor.best_score_}')\n",
    "\n",
    "print(f'\\nTraining Score (RMSE) = {np.round(mean_squared_error(y_train, y_pred_train, squared=False),3)}')\n",
    "print(f'Training Score (R Squared) = {np.round(r2_score(y_train, y_pred_train),3)}')\n",
    "\n",
    "print(f'\\nTest Score (RMSE) = {np.round(mean_squared_error(y_test, y_pred_test, squared=False),3)}')\n",
    "print(f'Test Score (R Squared) = {np.round(r2_score(y_test, y_pred_test),3)}')"
   ]
  },
  {
   "cell_type": "code",
   "execution_count": 23,
   "metadata": {
    "ExecuteTime": {
     "end_time": "2022-07-02T11:59:01.035015Z",
     "start_time": "2022-07-02T11:59:01.008016Z"
    }
   },
   "outputs": [],
   "source": [
    "# Store K Nearest Neighbors Regression Scores\n",
    "\n",
    "train_rmse['K Nearest Neighbors Regression'] = mean_squared_error(y_train,y_pred_train, squared=False)\n",
    "train_r2['K Nearest Neighbors Regression'] = r2_score(y_train,y_pred_train)\n",
    "\n",
    "test_rmse['K Nearest Neighbors Regression'] = mean_squared_error(y_test,y_pred_test, squared=False)\n",
    "test_r2['K Nearest Neighbors Regression'] = r2_score(y_test,y_pred_test)"
   ]
  },
  {
   "cell_type": "code",
   "execution_count": 24,
   "metadata": {
    "ExecuteTime": {
     "end_time": "2022-07-02T11:59:01.241767Z",
     "start_time": "2022-07-02T11:59:01.037973Z"
    }
   },
   "outputs": [
    {
     "data": {
      "text/plain": [
       "['6metrics_knn_reg.joblib']"
      ]
     },
     "execution_count": 24,
     "metadata": {},
     "output_type": "execute_result"
    }
   ],
   "source": [
    "dump(regressor, '6metrics_knn_reg.joblib') "
   ]
  },
  {
   "cell_type": "markdown",
   "metadata": {},
   "source": [
    "## Decision Tree Regression"
   ]
  },
  {
   "cell_type": "code",
   "execution_count": 25,
   "metadata": {
    "ExecuteTime": {
     "end_time": "2022-07-02T11:59:05.033286Z",
     "start_time": "2022-07-02T11:59:01.243424Z"
    }
   },
   "outputs": [
    {
     "name": "stdout",
     "output_type": "stream",
     "text": [
      "Best Estimator : DecisionTreeRegressor(criterion='mae', max_depth=9, random_state=42)\n",
      "Best Hyperparameter Combination: {'criterion': 'mae', 'max_depth': 9, 'min_samples_leaf': 1, 'splitter': 'best'}\n",
      "Best Mean CV Test Score: 0.010784085830140478\n",
      "\n",
      "Training Score (RMSE) = 0.0\n",
      "Training Score (R Squared) = 1.0\n",
      "\n",
      "Test Score (RMSE) = 0.087\n",
      "Test Score (R Squared) = 0.835\n"
     ]
    }
   ],
   "source": [
    "# Decision Tree Regression\n",
    "\n",
    "# Import Regressor\n",
    "from sklearn.tree import DecisionTreeRegressor\n",
    "\n",
    "# Instantiate Regressor\n",
    "dt = DecisionTreeRegressor(random_state = 42)\n",
    "\n",
    "# Define Parameter Grid for subsequent Grid Search\n",
    "param_grid = {'criterion' : ['mse', 'friedman_mse', 'mae', 'poisson'],\n",
    "              'splitter' : ['best', 'random'],\n",
    "              'max_depth' : np.arange(1, 11, 1),\n",
    "              'min_samples_leaf' : np.arange(1, 11, 1)} # 'min_samples_split' causes errors, excluded.\n",
    "             \n",
    "# Execute Grid Search\n",
    "regressor = GridSearchCV(estimator = dt,\n",
    "                         param_grid = param_grid,\n",
    "                         scoring = 'neg_mean_squared_error',\n",
    "                         cv = 5,\n",
    "                         n_jobs = -1,\n",
    "                         refit = True,\n",
    "                         return_train_score = True)\n",
    "\n",
    "# Fit Regressor\n",
    "regressor.fit(X_train, y_train)\n",
    "\n",
    "# Predict on Training Set\n",
    "y_pred_train = regressor.predict(X_train)\n",
    "y_pred_train = pd.DataFrame(y_pred_train)\n",
    "y_pred_train.index = y_train.index\n",
    "y_pred_train.columns = y_train.columns\n",
    "\n",
    "# Predict on Test Set\n",
    "y_pred_test = regressor.predict(X_test)\n",
    "y_pred_test = pd.DataFrame(y_pred_test)\n",
    "y_pred_test.index = y_test.index\n",
    "y_pred_test.columns = y_test.columns\n",
    "\n",
    "# Print Best Estimator, Hyperparameter Combination, Training and Test Scores\n",
    "print(f'Best Estimator : {regressor.best_estimator_}')\n",
    "print(f'Best Hyperparameter Combination: {regressor.best_params_}')\n",
    "print(f'Best Mean CV Test Score: {-regressor.best_score_}')\n",
    "\n",
    "print(f'\\nTraining Score (RMSE) = {np.round(mean_squared_error(y_train, y_pred_train, squared=False),3)}')\n",
    "print(f'Training Score (R Squared) = {np.round(r2_score(y_train, y_pred_train),3)}')\n",
    "\n",
    "print(f'\\nTest Score (RMSE) = {np.round(mean_squared_error(y_test, y_pred_test, squared=False),3)}')\n",
    "print(f'Test Score (R Squared) = {np.round(r2_score(y_test, y_pred_test),3)}')"
   ]
  },
  {
   "cell_type": "code",
   "execution_count": 26,
   "metadata": {
    "ExecuteTime": {
     "end_time": "2022-07-02T11:59:05.048274Z",
     "start_time": "2022-07-02T11:59:05.034283Z"
    }
   },
   "outputs": [],
   "source": [
    "# Store Decision Tree Regression Scores\n",
    "\n",
    "train_rmse['Decision Tree Regression'] = mean_squared_error(y_train,y_pred_train, squared=False)\n",
    "train_r2['Decision Tree Regression'] = r2_score(y_train,y_pred_train)\n",
    "\n",
    "test_rmse['Decision Tree Regression'] = mean_squared_error(y_test,y_pred_test, squared=False)\n",
    "test_r2['Decision Tree Regression'] = r2_score(y_test,y_pred_test)"
   ]
  },
  {
   "cell_type": "code",
   "execution_count": 27,
   "metadata": {
    "ExecuteTime": {
     "end_time": "2022-07-02T11:59:05.095207Z",
     "start_time": "2022-07-02T11:59:05.049282Z"
    }
   },
   "outputs": [
    {
     "data": {
      "text/plain": [
       "['6metrics_dt_reg.joblib']"
      ]
     },
     "execution_count": 27,
     "metadata": {},
     "output_type": "execute_result"
    }
   ],
   "source": [
    "dump(regressor, '6metrics_dt_reg.joblib') "
   ]
  },
  {
   "cell_type": "markdown",
   "metadata": {},
   "source": [
    "## Random Forest Regression"
   ]
  },
  {
   "cell_type": "code",
   "execution_count": 28,
   "metadata": {
    "ExecuteTime": {
     "end_time": "2022-07-02T13:17:52.244158Z",
     "start_time": "2022-07-02T11:59:05.098113Z"
    }
   },
   "outputs": [
    {
     "name": "stdout",
     "output_type": "stream",
     "text": [
      "Best Estimator : RandomForestRegressor(max_depth=9, n_estimators=700, random_state=42)\n",
      "Best Hyperparameter Combination: {'n_estimators': 700, 'min_samples_leaf': 1, 'max_depth': 9}\n",
      "Best Mean CV Test Score: 0.0069096395493413705\n",
      "\n",
      "Training Score (RMSE) = 0.026\n",
      "Training Score (R Squared) = 0.987\n",
      "\n",
      "Test Score (RMSE) = 0.069\n",
      "Test Score (R Squared) = 0.897\n"
     ]
    }
   ],
   "source": [
    "# Random Forest Regression\n",
    "\n",
    "# Import Regressor and RandomizedSearchCV\n",
    "from sklearn.ensemble import RandomForestRegressor\n",
    "from sklearn.model_selection import RandomizedSearchCV\n",
    "\n",
    "# Instantiate Regressor\n",
    "rf = RandomForestRegressor(random_state=42)\n",
    "\n",
    "# Define Parameter Grid for subsequent Random Search\n",
    "param_grid = {'n_estimators' : np.arange(100, 2100, 100),\n",
    "             'max_depth' : np.arange(1, 21, 1),\n",
    "             'min_samples_leaf' : np.arange(1, 21, 1)}\n",
    "\n",
    "# Execute Random Search\n",
    "regressor = RandomizedSearchCV(estimator = rf,\n",
    "                       param_distributions = param_grid,\n",
    "                       scoring = 'neg_mean_squared_error',\n",
    "                       cv = 5,\n",
    "                       refit = True,\n",
    "                       n_jobs = -1,\n",
    "                       return_train_score = True,\n",
    "                       n_iter = 4000,\n",
    "                       random_state = 42)\n",
    "\n",
    "# Fit Regressor\n",
    "regressor.fit(X_train, y_train)\n",
    "\n",
    "# Predict on Training Set\n",
    "y_pred_train = regressor.predict(X_train)\n",
    "y_pred_train = pd.DataFrame(y_pred_train)\n",
    "y_pred_train.index = y_train.index\n",
    "y_pred_train.columns = y_train.columns\n",
    "\n",
    "# Predict on Test Set\n",
    "y_pred_test = regressor.predict(X_test)\n",
    "y_pred_test = pd.DataFrame(y_pred_test)\n",
    "y_pred_test.index = y_test.index\n",
    "y_pred_test.columns = y_test.columns\n",
    "\n",
    "rf_regressor = regressor\n",
    "\n",
    "# Print Best Estimator, Hyperparameter Combination, Training and Test Scores\n",
    "print(f'Best Estimator : {regressor.best_estimator_}')\n",
    "print(f'Best Hyperparameter Combination: {regressor.best_params_}')\n",
    "print(f'Best Mean CV Test Score: {-regressor.best_score_}')\n",
    "\n",
    "print(f'\\nTraining Score (RMSE) = {np.round(mean_squared_error(y_train, y_pred_train, squared=False),3)}')\n",
    "print(f'Training Score (R Squared) = {np.round(r2_score(y_train, y_pred_train),3)}')\n",
    "\n",
    "print(f'\\nTest Score (RMSE) = {np.round(mean_squared_error(y_test, y_pred_test, squared=False),3)}')\n",
    "print(f'Test Score (R Squared) = {np.round(r2_score(y_test, y_pred_test),3)}')"
   ]
  },
  {
   "cell_type": "code",
   "execution_count": 29,
   "metadata": {
    "ExecuteTime": {
     "end_time": "2022-07-02T13:17:52.399741Z",
     "start_time": "2022-07-02T13:17:52.254131Z"
    }
   },
   "outputs": [
    {
     "data": {
      "text/plain": [
       "[('Residence Time', 0.13905890175349417),\n",
       " ('Styrene Weight Fraction', 0.5762439059736861),\n",
       " ('Styrene to AIBN Mole Ratio', 0.28469719227281975)]"
      ]
     },
     "execution_count": 29,
     "metadata": {},
     "output_type": "execute_result"
    }
   ],
   "source": [
    "sorted(zip(X_train.columns, regressor.best_estimator_.feature_importances_))"
   ]
  },
  {
   "cell_type": "code",
   "execution_count": 30,
   "metadata": {
    "ExecuteTime": {
     "end_time": "2022-07-02T13:17:52.431657Z",
     "start_time": "2022-07-02T13:17:52.403732Z"
    }
   },
   "outputs": [],
   "source": [
    "# Store Random Forest Regression Scores\n",
    "\n",
    "train_rmse['Random Forest Regression'] = mean_squared_error(y_train,y_pred_train, squared=False)\n",
    "train_r2['Random Forest Regression'] = r2_score(y_train,y_pred_train)\n",
    "\n",
    "test_rmse['Random Forest Regression'] = mean_squared_error(y_test,y_pred_test, squared=False)\n",
    "test_r2['Random Forest Regression'] = r2_score(y_test,y_pred_test)"
   ]
  },
  {
   "cell_type": "code",
   "execution_count": 31,
   "metadata": {
    "ExecuteTime": {
     "end_time": "2022-07-02T13:17:54.665682Z",
     "start_time": "2022-07-02T13:17:52.436643Z"
    }
   },
   "outputs": [
    {
     "data": {
      "text/plain": [
       "['6metrics_rf_reg.joblib']"
      ]
     },
     "execution_count": 31,
     "metadata": {},
     "output_type": "execute_result"
    }
   ],
   "source": [
    "dump(regressor, '6metrics_rf_reg.joblib') "
   ]
  },
  {
   "cell_type": "markdown",
   "metadata": {},
   "source": [
    "## Deep Neural Networks"
   ]
  },
  {
   "cell_type": "code",
   "execution_count": 32,
   "metadata": {
    "ExecuteTime": {
     "end_time": "2022-07-02T13:19:55.809280Z",
     "start_time": "2022-07-02T13:17:54.670669Z"
    },
    "scrolled": true
   },
   "outputs": [
    {
     "name": "stdout",
     "output_type": "stream",
     "text": [
      "Best Estimator : <tensorflow.python.keras.wrappers.scikit_learn.KerasRegressor object at 0x0000019C214B01F0>\n",
      "Best Hyperparameter Combination: {'n_hidden': 7, 'n_neurons': 32}\n",
      "Best Mean CV Test Score: 0.004997000154095846\n",
      "\n",
      "Training Score (RMSE) = 0.035\n",
      "Training Score (R Squared) = 0.975\n",
      "\n",
      "Test Score (RMSE) = 0.062\n",
      "Test Score (R Squared) = 0.913\n"
     ]
    }
   ],
   "source": [
    "import keras\n",
    "import tensorflow as tf\n",
    "from keras.models import Sequential\n",
    "from keras.layers import Dense\n",
    "\n",
    "import random as python_random\n",
    "\n",
    "np.random.seed(42)\n",
    "python_random.seed(42)\n",
    "tf.random.set_seed(42)\n",
    "\n",
    "def build_model(n_hidden, n_neurons, input_shape=[X.shape[1]]):\n",
    "    np.random.seed(42)\n",
    "    python_random.seed(42)\n",
    "    tf.random.set_seed(42)\n",
    "    model = keras.models.Sequential()\n",
    "    options = {\"input_shape\": input_shape}\n",
    "    for layer in range(n_hidden):\n",
    "        model.add(keras.layers.Dense(n_neurons, activation=\"relu\", **options))\n",
    "        options = {}\n",
    "    model.add(keras.layers.Dense(y.shape[1], **options))\n",
    "    optimizer = keras.optimizers.Adam()\n",
    "    model.compile(loss=\"mse\", optimizer=optimizer)\n",
    "    return model\n",
    "\n",
    "keras_reg = keras.wrappers.scikit_learn.KerasRegressor(build_model, verbose=0)\n",
    "\n",
    "param_grid = {\n",
    "    'n_hidden' : [1,2,3,4,5,6,7,8,9,10],\n",
    "    'n_neurons' : [2,4,6,8,16,32,64]\n",
    "}\n",
    "\n",
    "from sklearn.model_selection import GridSearchCV\n",
    "\n",
    "regressor = GridSearchCV(estimator = keras_reg,\n",
    "                         param_grid = param_grid,\n",
    "                         scoring = 'neg_mean_squared_error',\n",
    "                         cv = 5,\n",
    "                         refit = True,\n",
    "                         n_jobs = -1,\n",
    "                         return_train_score = True)\n",
    "\n",
    "regressor.fit(X_train, y_train, epochs = 500, batch_size=X_train.shape[0])\n",
    "\n",
    "# Predict on Training Set\n",
    "y_pred_train = regressor.predict(X_train)\n",
    "y_pred_train = pd.DataFrame(y_pred_train)\n",
    "y_pred_train.index = y_train.index\n",
    "y_pred_train.columns = y_train.columns\n",
    "\n",
    "# Predict on Test Set\n",
    "y_pred_test = regressor.predict(X_test)\n",
    "y_pred_test = pd.DataFrame(y_pred_test)\n",
    "y_pred_test.index = y_test.index\n",
    "y_pred_test.columns = y_test.columns\n",
    "\n",
    "print(f'Best Estimator : {regressor.best_estimator_}')\n",
    "print(f'Best Hyperparameter Combination: {regressor.best_params_}')\n",
    "print(f'Best Mean CV Test Score: {-regressor.best_score_}')\n",
    "\n",
    "print(f'\\nTraining Score (RMSE) = {np.round(mean_squared_error(y_train, y_pred_train, squared=False),3)}')\n",
    "print(f'Training Score (R Squared) = {np.round(r2_score(y_train, y_pred_train),3)}')\n",
    "\n",
    "print(f'\\nTest Score (RMSE) = {np.round(mean_squared_error(y_test, y_pred_test, squared=False),3)}')\n",
    "print(f'Test Score (R Squared) = {np.round(r2_score(y_test, y_pred_test),3)}')"
   ]
  },
  {
   "cell_type": "code",
   "execution_count": 37,
   "metadata": {
    "ExecuteTime": {
     "end_time": "2022-07-02T13:21:37.602234Z",
     "start_time": "2022-07-02T13:21:07.977463Z"
    },
    "scrolled": false
   },
   "outputs": [
    {
     "data": {
      "image/png": "[encoded data removed]",
      "text/plain": [
       "<Figure size 576x360 with 1 Axes>"
      ]
     },
     "metadata": {
      "needs_background": "light"
     },
     "output_type": "display_data"
    },
    {
     "data": {
      "text/plain": [
       "loss        0.001459\n",
       "val_loss    0.004511\n",
       "Name: 477, dtype: float64"
      ]
     },
     "execution_count": 37,
     "metadata": {},
     "output_type": "execute_result"
    }
   ],
   "source": [
    "import random as python_random\n",
    "\n",
    "np.random.seed(42)\n",
    "python_random.seed(42)\n",
    "tf.random.set_seed(42)\n",
    "\n",
    "from keras.callbacks import EarlyStopping, ModelCheckpoint\n",
    "\n",
    "model = Sequential()\n",
    "\n",
    "model.add(Dense(32, input_shape=(X.shape[1],), activation='relu'))\n",
    "model.add(Dense(32, activation='relu'))\n",
    "model.add(Dense(32, activation='relu'))\n",
    "model.add(Dense(32, activation='relu'))\n",
    "model.add(Dense(32, activation='relu'))\n",
    "model.add(Dense(32, activation='relu'))\n",
    "model.add(Dense(32, activation='relu'))\n",
    "model.add(Dense(y.shape[1]))\n",
    "\n",
    "model.compile(optimizer='adam', loss='mse')\n",
    "\n",
    "early_stopping = EarlyStopping(monitor='val_loss', patience=100)\n",
    "\n",
    "model_save = ModelCheckpoint('DNN_6metrics.hdf5', save_best_only=True)\n",
    "\n",
    "history = model.fit(X_train, y_train, epochs = 10000, validation_data = (X_test, y_test),\n",
    "                    callbacks = [early_stopping, model_save], verbose=0, batch_size=X_train.shape[0])\n",
    "\n",
    "\n",
    "y_pred_train = model.predict(X_train)\n",
    "y_pred_train = pd.DataFrame(y_pred_train)\n",
    "y_pred_train.index = y_train.index\n",
    "y_pred_train.columns = y_train.columns\n",
    " \n",
    "y_pred_test = model.predict(X_test)\n",
    "y_pred_test = pd.DataFrame(y_pred_test)\n",
    "y_pred_test.index = y_test.index\n",
    "y_pred_test.columns = y_test.columns\n",
    "\n",
    "metrics_data = pd.DataFrame(history.history)\n",
    "\n",
    "plt.figure(figsize=(8,5))\n",
    "plt.plot(metrics_data['loss'])\n",
    "plt.plot(metrics_data['val_loss'])\n",
    "plt.title('Learning Curve')\n",
    "plt.ylabel('Mean Squared Error')\n",
    "plt.xlabel('Number of Epochs')\n",
    "plt.legend(['Training Set MSE', 'Test Set MSE'])\n",
    "plt.show()\n",
    "\n",
    "metrics_data.iloc[-1,:]"
   ]
  },
  {
   "cell_type": "code",
   "execution_count": 38,
   "metadata": {
    "ExecuteTime": {
     "end_time": "2022-07-02T13:21:38.181685Z",
     "start_time": "2022-07-02T13:21:38.153759Z"
    }
   },
   "outputs": [],
   "source": [
    "# Store Neural Network Regression Scores\n",
    "\n",
    "train_rmse['Neural Network Regression'] = mean_squared_error(y_train,y_pred_train, squared=False)\n",
    "train_r2['Neural Network Regression'] = r2_score(y_train,y_pred_train)\n",
    "\n",
    "test_rmse['Neural Network Regression'] = mean_squared_error(y_test,y_pred_test, squared=False)\n",
    "test_r2['Neural Network Regression'] = r2_score(y_test,y_pred_test)"
   ]
  },
  {
   "cell_type": "markdown",
   "metadata": {},
   "source": [
    "## ML Algorithm Performance Visualization"
   ]
  },
  {
   "cell_type": "code",
   "execution_count": 41,
   "metadata": {
    "ExecuteTime": {
     "end_time": "2022-07-02T13:22:18.526506Z",
     "start_time": "2022-07-02T13:22:18.042800Z"
    }
   },
   "outputs": [
    {
     "data": {
      "image/png": "[encoded data removed]",
      "text/plain": [
       "<Figure size 432x288 with 1 Axes>"
      ]
     },
     "metadata": {
      "needs_background": "light"
     },
     "output_type": "display_data"
    }
   ],
   "source": [
    "barwidth = 0.25\n",
    "\n",
    "bars1 = train_rmse.values()\n",
    "bars2 = test_rmse.values()\n",
    "\n",
    "r1 = np.arange(len(bars1))\n",
    "r2 = [x + barwidth for x in r1]\n",
    "\n",
    "plt.bar(r1, bars1, width=barwidth, edgecolor='white', label='Training Set RMSE')\n",
    "plt.bar(r2, bars2, width=barwidth, edgecolor='white', label='Test Set RMSE')\n",
    "\n",
    "plt.xlabel('Regressors', fontsize=16)\n",
    "plt.xticks([r + barwidth for r in range(len(bars1))], train_rmse.keys(), rotation=90)\n",
    "plt.yticks(fontsize=16)\n",
    "plt.ylabel('RMSE', fontsize=16)\n",
    "plt.title('ML Algorithm Performance\\n on Conversion and MWD Metrics (RMSE)', fontsize=16)\n",
    "plt.grid(alpha=0.5, which = 'major', axis='y')\n",
    "\n",
    "plt.legend(bbox_to_anchor=(1.05, 1), loc='upper left', fontsize=16)\n",
    "plt.show()"
   ]
  },
  {
   "cell_type": "code",
   "execution_count": 42,
   "metadata": {
    "ExecuteTime": {
     "end_time": "2022-07-02T13:22:19.665481Z",
     "start_time": "2022-07-02T13:22:19.032175Z"
    }
   },
   "outputs": [
    {
     "data": {
      "image/png": "[encoded data removed]",
      "text/plain": [
       "<Figure size 432x288 with 1 Axes>"
      ]
     },
     "metadata": {
      "needs_background": "light"
     },
     "output_type": "display_data"
    }
   ],
   "source": [
    "barwidth = 0.25\n",
    "\n",
    "bars1 = train_r2.values()\n",
    "bars2 = test_r2.values()\n",
    "\n",
    "r1 = np.arange(len(bars1))\n",
    "r2 = [x + barwidth for x in r1]\n",
    "\n",
    "plt.bar(r1, bars1, width=barwidth, edgecolor='white', label='Training Set $R^{2}$')\n",
    "plt.bar(r2, bars2, width=barwidth, edgecolor='white', label='Test Set $R^{2}$')\n",
    "\n",
    "plt.xlabel('Regressors')\n",
    "plt.xticks([r + barwidth for r in range(len(bars1))], train_rmse.keys(), rotation=90)\n",
    "plt.yticks(fontsize=16)\n",
    "plt.ylabel('$R^{2}$', fontsize=16)\n",
    "plt.title('ML Algorithm Performance\\n on Conversion and MWD Metrics ($R^{2}$)', fontsize=16)\n",
    "plt.grid(alpha=0.5, which = 'major', axis='y')\n",
    "\n",
    "plt.legend(bbox_to_anchor=(1.05, 1), loc='upper left', fontsize=16)\n",
    "plt.show()"
   ]
  }
 ],
 "metadata": {
  "kernelspec": {
   "display_name": "Python 3 (ipykernel)",
   "language": "python",
   "name": "python3"
  },
  "language_info": {
   "codemirror_mode": {
    "name": "ipython",
    "version": 3
   },
   "file_extension": ".py",
   "mimetype": "text/x-python",
   "name": "python",
   "nbconvert_exporter": "python",
   "pygments_lexer": "ipython3",
   "version": "3.8.5"
  },
  "toc": {
   "base_numbering": 1,
   "nav_menu": {},
   "number_sections": false,
   "sideBar": true,
   "skip_h1_title": false,
   "title_cell": "Table of Contents",
   "title_sidebar": "Contents",
   "toc_cell": true,
   "toc_position": {},
   "toc_section_display": true,
   "toc_window_display": false
  },
  "varInspector": {
   "cols": {
    "lenName": 16,
    "lenType": 16,
    "lenVar": 40
   },
   "kernels_config": {
    "python": {
     "delete_cmd_postfix": "",
     "delete_cmd_prefix": "del ",
     "library": "var_list.py",
     "varRefreshCmd": "print(var_dic_list())"
    },
    "r": {
     "delete_cmd_postfix": ") ",
     "delete_cmd_prefix": "rm(",
     "library": "var_list.r",
     "varRefreshCmd": "cat(var_dic_list()) "
    }
   },
   "types_to_exclude": [
    "module",
    "function",
    "builtin_function_or_method",
    "instance",
    "_Feature"
   ],
   "window_display": false
  }
 },
 "nbformat": 4,
 "nbformat_minor": 4
}
