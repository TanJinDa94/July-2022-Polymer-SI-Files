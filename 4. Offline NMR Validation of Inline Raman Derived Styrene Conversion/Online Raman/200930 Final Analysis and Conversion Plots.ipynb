{
 "cells": [
  {
   "cell_type": "code",
   "execution_count": 1,
   "metadata": {
    "ExecuteTime": {
     "end_time": "2020-06-22T04:02:03.164598Z",
     "start_time": "2020-06-22T04:02:01.308669Z"
    }
   },
   "outputs": [],
   "source": [
    "import numpy as np\n",
    "import pandas as pd\n",
    "import matplotlib.pyplot as plt\n",
    "from uncertainties import ufloat"
   ]
  },
  {
   "cell_type": "code",
   "execution_count": 2,
   "metadata": {},
   "outputs": [
    {
     "data": {
      "text/html": [
       "<div>\n",
       "<style scoped>\n",
       "    .dataframe tbody tr th:only-of-type {\n",
       "        vertical-align: middle;\n",
       "    }\n",
       "\n",
       "    .dataframe tbody tr th {\n",
       "        vertical-align: top;\n",
       "    }\n",
       "\n",
       "    .dataframe thead th {\n",
       "        text-align: right;\n",
       "    }\n",
       "</style>\n",
       "<table border=\"1\" class=\"dataframe\">\n",
       "  <thead>\n",
       "    <tr style=\"text-align: right;\">\n",
       "      <th></th>\n",
       "      <th>Unnamed: 0</th>\n",
       "      <th>Original Spectral Index</th>\n",
       "      <th>Vinyl Peak Area</th>\n",
       "      <th>R2_Vinyl</th>\n",
       "      <th>pxyl Peak Area</th>\n",
       "      <th>R2_pxyl</th>\n",
       "      <th>Vinyl Divide pxyl</th>\n",
       "    </tr>\n",
       "  </thead>\n",
       "  <tbody>\n",
       "    <tr>\n",
       "      <th>0</th>\n",
       "      <td>count</td>\n",
       "      <td>9.000000</td>\n",
       "      <td>9.000000</td>\n",
       "      <td>9.000000</td>\n",
       "      <td>9.000000</td>\n",
       "      <td>9.000000</td>\n",
       "      <td>9.000000</td>\n",
       "    </tr>\n",
       "    <tr>\n",
       "      <th>1</th>\n",
       "      <td>mean</td>\n",
       "      <td>34.333333</td>\n",
       "      <td>253517.395977</td>\n",
       "      <td>0.985645</td>\n",
       "      <td>152947.595518</td>\n",
       "      <td>0.982927</td>\n",
       "      <td>1.658651</td>\n",
       "    </tr>\n",
       "    <tr>\n",
       "      <th>2</th>\n",
       "      <td>std</td>\n",
       "      <td>3.162278</td>\n",
       "      <td>1966.300482</td>\n",
       "      <td>0.000736</td>\n",
       "      <td>4496.609495</td>\n",
       "      <td>0.001203</td>\n",
       "      <td>0.043942</td>\n",
       "    </tr>\n",
       "    <tr>\n",
       "      <th>3</th>\n",
       "      <td>min</td>\n",
       "      <td>30.000000</td>\n",
       "      <td>249676.235386</td>\n",
       "      <td>0.984889</td>\n",
       "      <td>149315.037798</td>\n",
       "      <td>0.980489</td>\n",
       "      <td>1.573865</td>\n",
       "    </tr>\n",
       "    <tr>\n",
       "      <th>4</th>\n",
       "      <td>25%</td>\n",
       "      <td>32.000000</td>\n",
       "      <td>253111.164729</td>\n",
       "      <td>0.985059</td>\n",
       "      <td>149923.909577</td>\n",
       "      <td>0.982323</td>\n",
       "      <td>1.653604</td>\n",
       "    </tr>\n",
       "    <tr>\n",
       "      <th>5</th>\n",
       "      <td>50%</td>\n",
       "      <td>34.000000</td>\n",
       "      <td>253758.230718</td>\n",
       "      <td>0.985445</td>\n",
       "      <td>150729.416641</td>\n",
       "      <td>0.983160</td>\n",
       "      <td>1.680618</td>\n",
       "    </tr>\n",
       "    <tr>\n",
       "      <th>6</th>\n",
       "      <td>75%</td>\n",
       "      <td>37.000000</td>\n",
       "      <td>254541.868407</td>\n",
       "      <td>0.986260</td>\n",
       "      <td>153688.930918</td>\n",
       "      <td>0.983407</td>\n",
       "      <td>1.686925</td>\n",
       "    </tr>\n",
       "    <tr>\n",
       "      <th>7</th>\n",
       "      <td>max</td>\n",
       "      <td>39.000000</td>\n",
       "      <td>256111.873843</td>\n",
       "      <td>0.986842</td>\n",
       "      <td>161033.470444</td>\n",
       "      <td>0.984553</td>\n",
       "      <td>1.704730</td>\n",
       "    </tr>\n",
       "  </tbody>\n",
       "</table>\n",
       "</div>"
      ],
      "text/plain": [
       "  Unnamed: 0  Original Spectral Index  Vinyl Peak Area  R2_Vinyl  \\\n",
       "0      count                 9.000000         9.000000  9.000000   \n",
       "1       mean                34.333333    253517.395977  0.985645   \n",
       "2        std                 3.162278      1966.300482  0.000736   \n",
       "3        min                30.000000    249676.235386  0.984889   \n",
       "4        25%                32.000000    253111.164729  0.985059   \n",
       "5        50%                34.000000    253758.230718  0.985445   \n",
       "6        75%                37.000000    254541.868407  0.986260   \n",
       "7        max                39.000000    256111.873843  0.986842   \n",
       "\n",
       "   pxyl Peak Area   R2_pxyl  Vinyl Divide pxyl  \n",
       "0        9.000000  9.000000           9.000000  \n",
       "1   152947.595518  0.982927           1.658651  \n",
       "2     4496.609495  0.001203           0.043942  \n",
       "3   149315.037798  0.980489           1.573865  \n",
       "4   149923.909577  0.982323           1.653604  \n",
       "5   150729.416641  0.983160           1.680618  \n",
       "6   153688.930918  0.983407           1.686925  \n",
       "7   161033.470444  0.984553           1.704730  "
      ]
     },
     "execution_count": 2,
     "metadata": {},
     "output_type": "execute_result"
    }
   ],
   "source": [
    "df = pd.read_csv('df_ss_t0_area.csv')\n",
    "df"
   ]
  },
  {
   "cell_type": "code",
   "execution_count": 3,
   "metadata": {
    "ExecuteTime": {
     "end_time": "2020-06-22T04:02:03.249092Z",
     "start_time": "2020-06-22T04:02:03.164598Z"
    }
   },
   "outputs": [
    {
     "data": {
      "text/html": [
       "<div>\n",
       "<style scoped>\n",
       "    .dataframe tbody tr th:only-of-type {\n",
       "        vertical-align: middle;\n",
       "    }\n",
       "\n",
       "    .dataframe tbody tr th {\n",
       "        vertical-align: top;\n",
       "    }\n",
       "\n",
       "    .dataframe thead th {\n",
       "        text-align: right;\n",
       "    }\n",
       "</style>\n",
       "<table border=\"1\" class=\"dataframe\">\n",
       "  <thead>\n",
       "    <tr style=\"text-align: right;\">\n",
       "      <th></th>\n",
       "      <th>Time</th>\n",
       "      <th>Mean Ratio</th>\n",
       "      <th>Standard Deviation of Ratio</th>\n",
       "    </tr>\n",
       "  </thead>\n",
       "  <tbody>\n",
       "    <tr>\n",
       "      <th>0</th>\n",
       "      <td>0</td>\n",
       "      <td>1.658651</td>\n",
       "      <td>0.043942</td>\n",
       "    </tr>\n",
       "    <tr>\n",
       "      <th>1</th>\n",
       "      <td>30</td>\n",
       "      <td>1.395373</td>\n",
       "      <td>0.022846</td>\n",
       "    </tr>\n",
       "    <tr>\n",
       "      <th>2</th>\n",
       "      <td>60</td>\n",
       "      <td>1.222703</td>\n",
       "      <td>0.027512</td>\n",
       "    </tr>\n",
       "    <tr>\n",
       "      <th>3</th>\n",
       "      <td>90</td>\n",
       "      <td>1.051867</td>\n",
       "      <td>0.024700</td>\n",
       "    </tr>\n",
       "    <tr>\n",
       "      <th>4</th>\n",
       "      <td>120</td>\n",
       "      <td>0.947723</td>\n",
       "      <td>0.026858</td>\n",
       "    </tr>\n",
       "  </tbody>\n",
       "</table>\n",
       "</div>"
      ],
      "text/plain": [
       "   Time  Mean Ratio  Standard Deviation of Ratio\n",
       "0     0    1.658651                     0.043942\n",
       "1    30    1.395373                     0.022846\n",
       "2    60    1.222703                     0.027512\n",
       "3    90    1.051867                     0.024700\n",
       "4   120    0.947723                     0.026858"
      ]
     },
     "execution_count": 3,
     "metadata": {},
     "output_type": "execute_result"
    }
   ],
   "source": [
    "filenames = ['df_ss_t0_area.csv', 'df_ss_t30_area.csv','df_ss_t60_area.csv','df_ss_t90_area.csv','df_ss_t120_area.csv']\n",
    "# Create list of filenames to be read\n",
    "\n",
    "dataframes = [pd.read_csv(file) for file in filenames]\n",
    "# Use list comprehension to generate list of read dataframes\n",
    "\n",
    "mean_ratio = []\n",
    "std_ratio = []\n",
    "for file in dataframes:\n",
    "    mean_ratio.append(file.loc[1,'Vinyl Divide pxyl'])\n",
    "    std_ratio.append(file.loc[2, 'Vinyl Divide pxyl'])\n",
    "        \n",
    "time = [0, 30, 60, 90, 120]\n",
    "\n",
    "dict = {'Time':time, 'Mean Ratio':mean_ratio, 'Standard Deviation of Ratio':std_ratio}\n",
    "df = pd.DataFrame(dict)\n",
    "df"
   ]
  },
  {
   "cell_type": "code",
   "execution_count": 4,
   "metadata": {},
   "outputs": [],
   "source": [
    "# Express the Mean and Std of the Ratios and append them in a list.\n",
    "l=[]\n",
    "for index, rows in df.iterrows():\n",
    "    l.append(ufloat(df.loc[index, 'Mean Ratio'], df.loc[index, 'Standard Deviation of Ratio']))"
   ]
  },
  {
   "cell_type": "code",
   "execution_count": 5,
   "metadata": {},
   "outputs": [],
   "source": [
    "# Create Conversion and Propagated Standard Deviation Columns\n",
    "\n",
    "for i in range(0,5):\n",
    "    df.loc[i,'Conversion'] = ((1 - (l[i]/ l[0]))*100).nominal_value\n",
    "    df.loc[i,'Propagated Standard Deviation'] = ((1 - (l[i]/ l[0]))*100).std_dev"
   ]
  },
  {
   "cell_type": "code",
   "execution_count": 6,
   "metadata": {},
   "outputs": [
    {
     "data": {
      "text/html": [
       "<div>\n",
       "<style scoped>\n",
       "    .dataframe tbody tr th:only-of-type {\n",
       "        vertical-align: middle;\n",
       "    }\n",
       "\n",
       "    .dataframe tbody tr th {\n",
       "        vertical-align: top;\n",
       "    }\n",
       "\n",
       "    .dataframe thead th {\n",
       "        text-align: right;\n",
       "    }\n",
       "</style>\n",
       "<table border=\"1\" class=\"dataframe\">\n",
       "  <thead>\n",
       "    <tr style=\"text-align: right;\">\n",
       "      <th></th>\n",
       "      <th>Time</th>\n",
       "      <th>Mean Ratio</th>\n",
       "      <th>Standard Deviation of Ratio</th>\n",
       "      <th>Conversion</th>\n",
       "      <th>Propagated Standard Deviation</th>\n",
       "    </tr>\n",
       "  </thead>\n",
       "  <tbody>\n",
       "    <tr>\n",
       "      <th>0</th>\n",
       "      <td>0</td>\n",
       "      <td>1.658651</td>\n",
       "      <td>0.043942</td>\n",
       "      <td>0.000000</td>\n",
       "      <td>0.000000</td>\n",
       "    </tr>\n",
       "    <tr>\n",
       "      <th>1</th>\n",
       "      <td>30</td>\n",
       "      <td>1.395373</td>\n",
       "      <td>0.022846</td>\n",
       "      <td>15.873000</td>\n",
       "      <td>2.620022</td>\n",
       "    </tr>\n",
       "    <tr>\n",
       "      <th>2</th>\n",
       "      <td>60</td>\n",
       "      <td>1.222703</td>\n",
       "      <td>0.027512</td>\n",
       "      <td>26.283256</td>\n",
       "      <td>2.562287</td>\n",
       "    </tr>\n",
       "    <tr>\n",
       "      <th>3</th>\n",
       "      <td>90</td>\n",
       "      <td>1.051867</td>\n",
       "      <td>0.024700</td>\n",
       "      <td>36.582947</td>\n",
       "      <td>2.245046</td>\n",
       "    </tr>\n",
       "    <tr>\n",
       "      <th>4</th>\n",
       "      <td>120</td>\n",
       "      <td>0.947723</td>\n",
       "      <td>0.026858</td>\n",
       "      <td>42.861787</td>\n",
       "      <td>2.216621</td>\n",
       "    </tr>\n",
       "  </tbody>\n",
       "</table>\n",
       "</div>"
      ],
      "text/plain": [
       "   Time  Mean Ratio  Standard Deviation of Ratio  Conversion  \\\n",
       "0     0    1.658651                     0.043942    0.000000   \n",
       "1    30    1.395373                     0.022846   15.873000   \n",
       "2    60    1.222703                     0.027512   26.283256   \n",
       "3    90    1.051867                     0.024700   36.582947   \n",
       "4   120    0.947723                     0.026858   42.861787   \n",
       "\n",
       "   Propagated Standard Deviation  \n",
       "0                       0.000000  \n",
       "1                       2.620022  \n",
       "2                       2.562287  \n",
       "3                       2.245046  \n",
       "4                       2.216621  "
      ]
     },
     "execution_count": 6,
     "metadata": {},
     "output_type": "execute_result"
    }
   ],
   "source": [
    "df"
   ]
  },
  {
   "cell_type": "code",
   "execution_count": 7,
   "metadata": {
    "scrolled": true
   },
   "outputs": [
    {
     "data": {
      "image/png": "[encoded data removed]",
      "text/plain": [
       "<Figure size 432x288 with 1 Axes>"
      ]
     },
     "metadata": {
      "needs_background": "light"
     },
     "output_type": "display_data"
    }
   ],
   "source": [
    "x = df['Time']\n",
    "\n",
    "y = df['Mean Ratio']\n",
    "\n",
    "plt.title('Mean Ratio Plot')\n",
    "\n",
    "plt.xlabel('Time/ min')\n",
    "\n",
    "plt.ylabel('Mean Ratio')\n",
    "\n",
    "plt.xticks([0,30,60,90, 120]) # Set xticks to relevant time intervals.\n",
    "\n",
    "plt.errorbar(x, y, df['Standard Deviation of Ratio'], capsize = 5)\n",
    "\n",
    "plt.plot(x, y)\n",
    "    \n",
    "plt.tight_layout()\n",
    "plt.show()"
   ]
  },
  {
   "cell_type": "code",
   "execution_count": 8,
   "metadata": {},
   "outputs": [
    {
     "data": {
      "image/png": "[encoded data removed]",
      "text/plain": [
       "<Figure size 432x288 with 1 Axes>"
      ]
     },
     "metadata": {
      "needs_background": "light"
     },
     "output_type": "display_data"
    }
   ],
   "source": [
    "x = df['Time']\n",
    "\n",
    "y = df['Conversion']\n",
    "\n",
    "plt.title('Conversion Plot')\n",
    "\n",
    "plt.xlabel('Time/ min')\n",
    "\n",
    "plt.ylabel('Conversion/ %')\n",
    "\n",
    "plt.xticks([0,30,60,90,120]) # Set xticks to relevant time intervals.\n",
    "\n",
    "plt.errorbar(x, y, df['Propagated Standard Deviation'], capsize = 5)\n",
    "\n",
    "plt.plot(x, y)\n",
    "    \n",
    "plt.tight_layout()\n",
    "plt.show()"
   ]
  }
 ],
 "metadata": {
  "hide_input": false,
  "kernelspec": {
   "display_name": "Python 3",
   "language": "python",
   "name": "python3"
  },
  "language_info": {
   "codemirror_mode": {
    "name": "ipython",
    "version": 3
   },
   "file_extension": ".py",
   "mimetype": "text/x-python",
   "name": "python",
   "nbconvert_exporter": "python",
   "pygments_lexer": "ipython3",
   "version": "3.7.6"
  },
  "toc": {
   "base_numbering": 1,
   "nav_menu": {},
   "number_sections": true,
   "sideBar": true,
   "skip_h1_title": false,
   "title_cell": "Table of Contents",
   "title_sidebar": "Contents",
   "toc_cell": true,
   "toc_position": {
    "height": "calc(100% - 180px)",
    "left": "10px",
    "top": "150px",
    "width": "307.2px"
   },
   "toc_section_display": true,
   "toc_window_display": true
  }
 },
 "nbformat": 4,
 "nbformat_minor": 2
}
